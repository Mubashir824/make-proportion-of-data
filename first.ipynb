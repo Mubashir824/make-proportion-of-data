{
 "cells": [
  {
   "cell_type": "code",
   "execution_count": 1,
   "metadata": {},
   "outputs": [],
   "source": [
    "import pandas as pd\n",
    "import numpy as np\n"
   ]
  },
  {
   "cell_type": "code",
   "execution_count": 2,
   "metadata": {},
   "outputs": [
    {
     "data": {
      "text/html": [
       "<div>\n",
       "<style scoped>\n",
       "    .dataframe tbody tr th:only-of-type {\n",
       "        vertical-align: middle;\n",
       "    }\n",
       "\n",
       "    .dataframe tbody tr th {\n",
       "        vertical-align: top;\n",
       "    }\n",
       "\n",
       "    .dataframe thead th {\n",
       "        text-align: right;\n",
       "    }\n",
       "</style>\n",
       "<table border=\"1\" class=\"dataframe\">\n",
       "  <thead>\n",
       "    <tr style=\"text-align: right;\">\n",
       "      <th></th>\n",
       "      <th>CONFLICT_INSTANCES</th>\n",
       "      <th>CONFLICT_BINARY</th>\n",
       "      <th>CONFLICT_DISTANCE</th>\n",
       "      <th>DEATH_TOLL</th>\n",
       "      <th>DROUGHT_EPISODES</th>\n",
       "      <th>PARTICIPANT CATEGORY</th>\n",
       "      <th>MALARIA_INCIDENCE</th>\n",
       "      <th>CURRENT AGE OF CHILD</th>\n",
       "      <th>BODY MASS INDEX</th>\n",
       "      <th>OUTCOME VARIABLE BMI</th>\n",
       "      <th>...</th>\n",
       "      <th>T_MEAN_3</th>\n",
       "      <th>T_MEAN_2</th>\n",
       "      <th>T_MEAN_1</th>\n",
       "      <th>T_MEAN_0</th>\n",
       "      <th>T_MIN_4</th>\n",
       "      <th>T_MIN_3</th>\n",
       "      <th>T_MIN_2</th>\n",
       "      <th>T_MIN_1</th>\n",
       "      <th>T_MIN_0</th>\n",
       "      <th>YEAR</th>\n",
       "    </tr>\n",
       "  </thead>\n",
       "  <tbody>\n",
       "    <tr>\n",
       "      <th>0</th>\n",
       "      <td>0</td>\n",
       "      <td>No</td>\n",
       "      <td>8</td>\n",
       "      <td>0</td>\n",
       "      <td>7</td>\n",
       "      <td>Adolescents</td>\n",
       "      <td>0.061054</td>\n",
       "      <td>NaN</td>\n",
       "      <td>1653</td>\n",
       "      <td>low BMI</td>\n",
       "      <td>...</td>\n",
       "      <td>17.850484</td>\n",
       "      <td>17.963958</td>\n",
       "      <td>17.621692</td>\n",
       "      <td>17.580191</td>\n",
       "      <td>11.575043</td>\n",
       "      <td>12.351219</td>\n",
       "      <td>12.413791</td>\n",
       "      <td>11.996821</td>\n",
       "      <td>12.063445</td>\n",
       "      <td>2005</td>\n",
       "    </tr>\n",
       "    <tr>\n",
       "      <th>1</th>\n",
       "      <td>0</td>\n",
       "      <td>No</td>\n",
       "      <td>8</td>\n",
       "      <td>0</td>\n",
       "      <td>7</td>\n",
       "      <td>Adolescents</td>\n",
       "      <td>0.061054</td>\n",
       "      <td>NaN</td>\n",
       "      <td>1956</td>\n",
       "      <td>Normal BMI</td>\n",
       "      <td>...</td>\n",
       "      <td>17.850484</td>\n",
       "      <td>17.963958</td>\n",
       "      <td>17.621692</td>\n",
       "      <td>17.580191</td>\n",
       "      <td>11.575043</td>\n",
       "      <td>12.351219</td>\n",
       "      <td>12.413791</td>\n",
       "      <td>11.996821</td>\n",
       "      <td>12.063445</td>\n",
       "      <td>2005</td>\n",
       "    </tr>\n",
       "    <tr>\n",
       "      <th>2</th>\n",
       "      <td>0</td>\n",
       "      <td>No</td>\n",
       "      <td>8</td>\n",
       "      <td>0</td>\n",
       "      <td>7</td>\n",
       "      <td>Adolescents</td>\n",
       "      <td>0.061054</td>\n",
       "      <td>NaN</td>\n",
       "      <td>1737</td>\n",
       "      <td>low BMI</td>\n",
       "      <td>...</td>\n",
       "      <td>17.850484</td>\n",
       "      <td>17.963958</td>\n",
       "      <td>17.621692</td>\n",
       "      <td>17.580191</td>\n",
       "      <td>11.575043</td>\n",
       "      <td>12.351219</td>\n",
       "      <td>12.413791</td>\n",
       "      <td>11.996821</td>\n",
       "      <td>12.063445</td>\n",
       "      <td>2005</td>\n",
       "    </tr>\n",
       "    <tr>\n",
       "      <th>3</th>\n",
       "      <td>0</td>\n",
       "      <td>No</td>\n",
       "      <td>8</td>\n",
       "      <td>0</td>\n",
       "      <td>7</td>\n",
       "      <td>Adolescents</td>\n",
       "      <td>0.061054</td>\n",
       "      <td>NaN</td>\n",
       "      <td>2159</td>\n",
       "      <td>Normal BMI</td>\n",
       "      <td>...</td>\n",
       "      <td>17.850484</td>\n",
       "      <td>17.963958</td>\n",
       "      <td>17.621692</td>\n",
       "      <td>17.580191</td>\n",
       "      <td>11.575043</td>\n",
       "      <td>12.351219</td>\n",
       "      <td>12.413791</td>\n",
       "      <td>11.996821</td>\n",
       "      <td>12.063445</td>\n",
       "      <td>2005</td>\n",
       "    </tr>\n",
       "    <tr>\n",
       "      <th>4</th>\n",
       "      <td>4</td>\n",
       "      <td>Yes</td>\n",
       "      <td>10</td>\n",
       "      <td>4</td>\n",
       "      <td>7</td>\n",
       "      <td>Adolescents</td>\n",
       "      <td>0.000000</td>\n",
       "      <td>NaN</td>\n",
       "      <td>2458</td>\n",
       "      <td>Normal BMI</td>\n",
       "      <td>...</td>\n",
       "      <td>16.069568</td>\n",
       "      <td>15.763140</td>\n",
       "      <td>15.571404</td>\n",
       "      <td>15.817906</td>\n",
       "      <td>9.563205</td>\n",
       "      <td>10.218515</td>\n",
       "      <td>9.788896</td>\n",
       "      <td>9.718102</td>\n",
       "      <td>9.829757</td>\n",
       "      <td>2005</td>\n",
       "    </tr>\n",
       "  </tbody>\n",
       "</table>\n",
       "<p>5 rows × 56 columns</p>\n",
       "</div>"
      ],
      "text/plain": [
       "   CONFLICT_INSTANCES CONFLICT_BINARY  CONFLICT_DISTANCE  DEATH_TOLL  \\\n",
       "0                   0              No                  8           0   \n",
       "1                   0              No                  8           0   \n",
       "2                   0              No                  8           0   \n",
       "3                   0              No                  8           0   \n",
       "4                   4             Yes                 10           4   \n",
       "\n",
       "   DROUGHT_EPISODES PARTICIPANT CATEGORY  MALARIA_INCIDENCE  \\\n",
       "0                 7          Adolescents           0.061054   \n",
       "1                 7          Adolescents           0.061054   \n",
       "2                 7          Adolescents           0.061054   \n",
       "3                 7          Adolescents           0.061054   \n",
       "4                 7          Adolescents           0.000000   \n",
       "\n",
       "   CURRENT AGE OF CHILD  BODY MASS INDEX OUTCOME VARIABLE BMI  ...   T_MEAN_3  \\\n",
       "0                   NaN             1653              low BMI  ...  17.850484   \n",
       "1                   NaN             1956           Normal BMI  ...  17.850484   \n",
       "2                   NaN             1737              low BMI  ...  17.850484   \n",
       "3                   NaN             2159           Normal BMI  ...  17.850484   \n",
       "4                   NaN             2458           Normal BMI  ...  16.069568   \n",
       "\n",
       "    T_MEAN_2   T_MEAN_1   T_MEAN_0    T_MIN_4    T_MIN_3    T_MIN_2  \\\n",
       "0  17.963958  17.621692  17.580191  11.575043  12.351219  12.413791   \n",
       "1  17.963958  17.621692  17.580191  11.575043  12.351219  12.413791   \n",
       "2  17.963958  17.621692  17.580191  11.575043  12.351219  12.413791   \n",
       "3  17.963958  17.621692  17.580191  11.575043  12.351219  12.413791   \n",
       "4  15.763140  15.571404  15.817906   9.563205  10.218515   9.788896   \n",
       "\n",
       "     T_MIN_1    T_MIN_0  YEAR  \n",
       "0  11.996821  12.063445  2005  \n",
       "1  11.996821  12.063445  2005  \n",
       "2  11.996821  12.063445  2005  \n",
       "3  11.996821  12.063445  2005  \n",
       "4   9.718102   9.829757  2005  \n",
       "\n",
       "[5 rows x 56 columns]"
      ]
     },
     "execution_count": 2,
     "metadata": {},
     "output_type": "execute_result"
    }
   ],
   "source": [
    "dataframe=pd.read_csv('dataa.csv.csv')\n",
    "dataframe.head()"
   ]
  },
  {
   "cell_type": "code",
   "execution_count": 3,
   "metadata": {},
   "outputs": [
    {
     "data": {
      "text/plain": [
       "0    1\n",
       "1    1\n",
       "2    1\n",
       "3    1\n",
       "4    2\n",
       "Name: CLUSTER NUMBER, dtype: int64"
      ]
     },
     "execution_count": 3,
     "metadata": {},
     "output_type": "execute_result"
    }
   ],
   "source": [
    "df=dataframe['CLUSTER NUMBER']\n",
    "df.head()"
   ]
  },
  {
   "cell_type": "code",
   "execution_count": 4,
   "metadata": {},
   "outputs": [
    {
     "name": "stdout",
     "output_type": "stream",
     "text": [
      "   CLUSTER NUMBER  YEAR cluster\n",
      "0               1  2005  1_2005\n",
      "1               1  2005  1_2005\n",
      "2               1  2005  1_2005\n",
      "3               1  2005  1_2005\n",
      "4               2  2005  2_2005\n"
     ]
    }
   ],
   "source": [
    "import pandas as pd\n",
    "\n",
    "# Assuming your dataframe is called 'df'\n",
    "dataframe['cluster'] = dataframe['CLUSTER NUMBER'].astype(str) + '_' + dataframe['YEAR'].astype(str)\n",
    "\n",
    "# Display the dataframe with the new 'cluster' column\n",
    "print(dataframe[['CLUSTER NUMBER', 'YEAR', 'cluster']].head())\n"
   ]
  },
  {
   "cell_type": "code",
   "execution_count": 5,
   "metadata": {},
   "outputs": [
    {
     "name": "stdout",
     "output_type": "stream",
     "text": [
      "  cluster  Proportion_Adolescents  Proportion_Pregnant_Women  \\\n",
      "0  1_2005                0.088235                        0.0   \n",
      "1  1_2005                0.088235                        0.0   \n",
      "2  1_2005                0.088235                        0.0   \n",
      "3  1_2005                0.088235                        0.0   \n",
      "4  2_2005                0.179487                        0.0   \n",
      "\n",
      "   Proportion_Non_Pregnant_Women  \n",
      "0                       0.911765  \n",
      "1                       0.911765  \n",
      "2                       0.911765  \n",
      "3                       0.911765  \n",
      "4                       0.820513  \n"
     ]
    }
   ],
   "source": [
    "import pandas as pd\n",
    "\n",
    "# Define a function to calculate the proportion of each category in the 'PARTICIPANT CATEGORY' column\n",
    "def calculate_proportion(df, category):\n",
    "    return (df == category).mean()\n",
    "\n",
    "\n",
    "dataframe['Proportion_Adolescents'] = dataframe.groupby('cluster')['PARTICIPANT CATEGORY'].transform(lambda x: calculate_proportion(x, 'Adolescents'))\n",
    "dataframe['Proportion_Pregnant_Women'] = dataframe.groupby('cluster')['PARTICIPANT CATEGORY'].transform(lambda x: calculate_proportion(x, 'Pregnant women'))\n",
    "dataframe['Proportion_Non_Pregnant_Women'] = dataframe.groupby('cluster')['PARTICIPANT CATEGORY'].transform(lambda x: calculate_proportion(x, 'Non-pregnant women'))\n",
    "\n",
    "\n",
    "print(dataframe[['cluster', 'Proportion_Adolescents', 'Proportion_Pregnant_Women', 'Proportion_Non_Pregnant_Women']].head())\n"
   ]
  },
  {
   "cell_type": "code",
   "execution_count": 6,
   "metadata": {},
   "outputs": [
    {
     "name": "stdout",
     "output_type": "stream",
     "text": [
      "  cluster  CURRENT AGE OF CHILD  0-5_child_age_proportion\n",
      "0  1_2005                   NaN                  0.220588\n",
      "1  1_2005                   NaN                  0.220588\n",
      "2  1_2005                   NaN                  0.220588\n",
      "3  1_2005                   NaN                  0.220588\n",
      "4  2_2005                   NaN                  0.153846\n"
     ]
    }
   ],
   "source": [
    "# Update the calculate_proportion function to handle lists\n",
    "def calculate_proportion(df, category):\n",
    "    # If category is a list, check if values in df belong to the list\n",
    "    if isinstance(category, list):\n",
    "        return df.isin(category).mean()\n",
    "    # Otherwise, check for single value comparison\n",
    "    return (df == category).mean()\n",
    "\n",
    "# Now, applying the proportion calculation for child ages 0 to 5\n",
    "child_0_5 = [0, 1, 2, 3, 4, 5]\n",
    "dataframe[\"0-5_child_age_proportion\"] = dataframe.groupby('cluster')['CURRENT AGE OF CHILD'].transform(lambda x: calculate_proportion(x, child_0_5))\n",
    "\n",
    "# Check the result\n",
    "print(dataframe[['cluster', 'CURRENT AGE OF CHILD', '0-5_child_age_proportion']].head())\n"
   ]
  },
  {
   "cell_type": "code",
   "execution_count": 7,
   "metadata": {},
   "outputs": [
    {
     "name": "stdout",
     "output_type": "stream",
     "text": [
      "  cluster EVER CHILDREN BORN  three_or_above_child_proportion\n",
      "0  1_2005           No birth                         0.838235\n",
      "1  1_2005           No birth                         0.838235\n",
      "2  1_2005           No birth                         0.838235\n",
      "3  1_2005           No birth                         0.838235\n",
      "4  2_2005           No birth                         0.282051\n"
     ]
    }
   ],
   "source": [
    "dataframe[\"three_or_above_child_proportion\"]=dataframe.groupby('cluster')['EVER CHILDREN BORN'].transform(lambda x: calculate_proportion(x,\"3 or above\"))\n",
    "print(dataframe[['cluster', 'EVER CHILDREN BORN', 'three_or_above_child_proportion']].head())"
   ]
  },
  {
   "cell_type": "code",
   "execution_count": 8,
   "metadata": {},
   "outputs": [
    {
     "name": "stdout",
     "output_type": "stream",
     "text": [
      "  cluster AGE IN 5-YEAR GROUPS  five_year_group_proportion_15-19  \\\n",
      "0  1_2005                15-19                          0.088235   \n",
      "1  1_2005                15-19                          0.088235   \n",
      "2  1_2005                15-19                          0.088235   \n",
      "3  1_2005                15-19                          0.088235   \n",
      "4  2_2005                15-19                          0.179487   \n",
      "\n",
      "   five_year_group_proportion_20-24  five_year_group_proportion_25-29  \\\n",
      "0                          0.073529                          0.102941   \n",
      "1                          0.073529                          0.102941   \n",
      "2                          0.073529                          0.102941   \n",
      "3                          0.073529                          0.102941   \n",
      "4                          0.230769                          0.102564   \n",
      "\n",
      "   five_year_group_proportion_30-34  five_year_group_proportion_35-39  \\\n",
      "0                          0.088235                          0.294118   \n",
      "1                          0.088235                          0.294118   \n",
      "2                          0.088235                          0.294118   \n",
      "3                          0.088235                          0.294118   \n",
      "4                          0.179487                          0.102564   \n",
      "\n",
      "   five_year_group_proportion_40-44  five_year_group_proportion_45-49  \n",
      "0                          0.220588                          0.132353  \n",
      "1                          0.220588                          0.132353  \n",
      "2                          0.220588                          0.132353  \n",
      "3                          0.220588                          0.132353  \n",
      "4                          0.205128                          0.000000  \n"
     ]
    }
   ],
   "source": [
    "dataframe[\"five_year_group_proportion_15-19\"] = dataframe.groupby('cluster')['AGE IN 5-YEAR GROUPS'].transform(lambda x: calculate_proportion(x, \"15-19\"))\n",
    "dataframe[\"five_year_group_proportion_20-24\"] = dataframe.groupby('cluster')['AGE IN 5-YEAR GROUPS'].transform(lambda x: calculate_proportion(x, \"20-24\"))\n",
    "dataframe[\"five_year_group_proportion_25-29\"] = dataframe.groupby('cluster')['AGE IN 5-YEAR GROUPS'].transform(lambda x: calculate_proportion(x, \"25-29\"))\n",
    "dataframe[\"five_year_group_proportion_30-34\"] = dataframe.groupby('cluster')['AGE IN 5-YEAR GROUPS'].transform(lambda x: calculate_proportion(x, \"30-34\"))\n",
    "dataframe[\"five_year_group_proportion_35-39\"] = dataframe.groupby('cluster')['AGE IN 5-YEAR GROUPS'].transform(lambda x: calculate_proportion(x, \"35-39\"))\n",
    "dataframe[\"five_year_group_proportion_40-44\"] = dataframe.groupby('cluster')['AGE IN 5-YEAR GROUPS'].transform(lambda x: calculate_proportion(x, \"40-44\"))\n",
    "dataframe[\"five_year_group_proportion_45-49\"] = dataframe.groupby('cluster')['AGE IN 5-YEAR GROUPS'].transform(lambda x: calculate_proportion(x, \"45-49\"))\n",
    "\n",
    "# Print the results\n",
    "print(dataframe[['cluster', 'AGE IN 5-YEAR GROUPS', \n",
    "                 'five_year_group_proportion_15-19',\n",
    "                 'five_year_group_proportion_20-24',\n",
    "                 'five_year_group_proportion_25-29',\n",
    "                 'five_year_group_proportion_30-34',\n",
    "                 'five_year_group_proportion_35-39',\n",
    "                 'five_year_group_proportion_40-44',\n",
    "                 'five_year_group_proportion_45-49']].head())\n"
   ]
  },
  {
   "cell_type": "code",
   "execution_count": 9,
   "metadata": {},
   "outputs": [
    {
     "name": "stdout",
     "output_type": "stream",
     "text": [
      "  cluster TYPE OF PLACE OF RESIDENCE  Rural_proportion\n",
      "0  1_2005                      rural               1.0\n",
      "1  1_2005                      rural               1.0\n",
      "2  1_2005                      rural               1.0\n",
      "3  1_2005                      rural               1.0\n",
      "4  2_2005                      urban               0.0\n"
     ]
    }
   ],
   "source": [
    "dataframe[\"Rural_proportion\"]=dataframe.groupby('cluster')['TYPE OF PLACE OF RESIDENCE'].transform(lambda x: calculate_proportion(x,\"rural\"))\n",
    "print(dataframe[[\"cluster\",\"TYPE OF PLACE OF RESIDENCE\",\"Rural_proportion\"]].head())"
   ]
  },
  {
   "cell_type": "code",
   "execution_count": 10,
   "metadata": {},
   "outputs": [
    {
     "name": "stdout",
     "output_type": "stream",
     "text": [
      "  cluster HIGHEST EDUCATIONAL LEVEL  no_education_proportion  \\\n",
      "0  1_2005                   primary                 0.941176   \n",
      "1  1_2005                 secondary                 0.941176   \n",
      "2  1_2005                 secondary                 0.941176   \n",
      "3  1_2005                   primary                 0.941176   \n",
      "4  2_2005                 secondary                 0.128205   \n",
      "\n",
      "   primary_education_proportion  \n",
      "0                      0.029412  \n",
      "1                      0.029412  \n",
      "2                      0.029412  \n",
      "3                      0.029412  \n",
      "4                      0.128205  \n"
     ]
    }
   ],
   "source": [
    "dataframe[\"no_education_proportion\"]=dataframe.groupby('cluster')['HIGHEST EDUCATIONAL LEVEL'].transform(lambda x: calculate_proportion(x,\"no education\"))\n",
    "dataframe[\"primary_education_proportion\"]=dataframe.groupby('cluster')['HIGHEST EDUCATIONAL LEVEL'].transform(lambda x: calculate_proportion(x,\"primary\"))\n",
    "\n",
    "print(dataframe[[\"cluster\",\"HIGHEST EDUCATIONAL LEVEL\",\"no_education_proportion\",\"primary_education_proportion\"]].head())"
   ]
  },
  {
   "cell_type": "code",
   "execution_count": 11,
   "metadata": {},
   "outputs": [
    {
     "name": "stdout",
     "output_type": "stream",
     "text": [
      "0        0.000000\n",
      "1        0.000000\n",
      "2        0.000000\n",
      "3        0.000000\n",
      "4        0.051282\n",
      "           ...   \n",
      "43754    0.784810\n",
      "43755    0.784810\n",
      "43756    0.784810\n",
      "43757    0.784810\n",
      "43758    0.784810\n",
      "Name: pure_drinking_awter_proportion, Length: 43759, dtype: float64\n"
     ]
    }
   ],
   "source": [
    "\n",
    "dataframe[\"pure_drinking_awter_proportion\"]=dataframe.groupby('cluster')['SOURCE OF DRINKING WATER'].transform(lambda x: calculate_proportion(x,\"Unimproved\"))\n",
    "print(dataframe[\"pure_drinking_awter_proportion\"])"
   ]
  },
  {
   "cell_type": "code",
   "execution_count": 12,
   "metadata": {},
   "outputs": [
    {
     "name": "stdout",
     "output_type": "stream",
     "text": [
      "<bound method NDFrame.head of        no_toilate_proportion  unimproved_toilate_proportion\n",
      "0                   1.000000                       0.000000\n",
      "1                   1.000000                       0.000000\n",
      "2                   1.000000                       0.000000\n",
      "3                   1.000000                       0.000000\n",
      "4                   0.000000                       0.051282\n",
      "...                      ...                            ...\n",
      "43754               0.607595                       0.392405\n",
      "43755               0.607595                       0.392405\n",
      "43756               0.607595                       0.392405\n",
      "43757               0.607595                       0.392405\n",
      "43758               0.607595                       0.392405\n",
      "\n",
      "[43759 rows x 2 columns]>\n"
     ]
    }
   ],
   "source": [
    "\n",
    "dataframe[\"no_toilate_proportion\"]=dataframe.groupby('cluster')['TOILET FACILITY'].transform(lambda x: calculate_proportion(x,\"No toilet facility\"))\n",
    "dataframe[\"unimproved_toilate_proportion\"]=dataframe.groupby('cluster')['TOILET FACILITY'].transform(lambda x: calculate_proportion(x,\"Unimproved toilet\"))\n",
    "print(dataframe[[\"no_toilate_proportion\",\"unimproved_toilate_proportion\"]].head)"
   ]
  },
  {
   "cell_type": "code",
   "execution_count": 13,
   "metadata": {},
   "outputs": [
    {
     "name": "stdout",
     "output_type": "stream",
     "text": [
      "0    0.632353\n",
      "1    0.632353\n",
      "2    0.632353\n",
      "3    0.632353\n",
      "4    0.333333\n",
      "Name: large_family_proportion, dtype: float64\n"
     ]
    }
   ],
   "source": [
    "\n",
    "dataframe[\"large_family_proportion\"]=dataframe.groupby('cluster')['HOUSEHOLD MEMBERS'].transform(lambda x: calculate_proportion(x,\"Large family\"))\n",
    "print(dataframe[\"large_family_proportion\"].head())"
   ]
  },
  {
   "cell_type": "code",
   "execution_count": 14,
   "metadata": {},
   "outputs": [
    {
     "data": {
      "text/plain": [
       "<bound method NDFrame.head of 0        0.426471\n",
       "1        0.426471\n",
       "2        0.426471\n",
       "3        0.426471\n",
       "4        0.179487\n",
       "           ...   \n",
       "43754    0.645570\n",
       "43755    0.645570\n",
       "43756    0.645570\n",
       "43757    0.645570\n",
       "43758    0.645570\n",
       "Name: twoOrThreeAboveChildren_proportion, Length: 43759, dtype: float64>"
      ]
     },
     "execution_count": 14,
     "metadata": {},
     "output_type": "execute_result"
    }
   ],
   "source": [
    "two_three_above = [\"2\", \"3 or above\"]\n",
    "dataframe[\"twoOrThreeAboveChildren_proportion\"] = dataframe.groupby('cluster')['NO OF CHILDREN UNDER 5 AT HOME'].transform(lambda x: calculate_proportion(x, two_three_above))\n",
    "dataframe[\"twoOrThreeAboveChildren_proportion\"].head"
   ]
  },
  {
   "cell_type": "code",
   "execution_count": 15,
   "metadata": {},
   "outputs": [
    {
     "data": {
      "text/plain": [
       "0    0.632353\n",
       "1    0.632353\n",
       "2    0.632353\n",
       "3    0.632353\n",
       "4    0.692308\n",
       "Name: SEX OF HOUSEHOLD HEAD_male proportion, dtype: float64"
      ]
     },
     "execution_count": 15,
     "metadata": {},
     "output_type": "execute_result"
    }
   ],
   "source": [
    "\n",
    "dataframe[\"SEX OF HOUSEHOLD HEAD_male proportion\"] = dataframe.groupby('cluster')['SEX OF HOUSEHOLD HEAD'].transform(lambda x: calculate_proportion(x, \"male\"))\n",
    "dataframe[\"SEX OF HOUSEHOLD HEAD_male proportion\"].head()\n"
   ]
  },
  {
   "cell_type": "code",
   "execution_count": 16,
   "metadata": {},
   "outputs": [
    {
     "data": {
      "text/plain": [
       "0    0.0\n",
       "1    0.0\n",
       "2    0.0\n",
       "3    0.0\n",
       "4    0.0\n",
       "Name:  BIRTHS IN LAST FIVE 5 YEARS 3 or above proportion, dtype: float64"
      ]
     },
     "execution_count": 16,
     "metadata": {},
     "output_type": "execute_result"
    }
   ],
   "source": [
    "dataframe[\" BIRTHS IN LAST FIVE 5 YEARS 3 or above proportion\"] = dataframe.groupby('cluster')[' BIRTHS IN LAST FIVE 5 YEARS'].transform(lambda x: calculate_proportion(x, \"3 or above\"))\n",
    "dataframe[\" BIRTHS IN LAST FIVE 5 YEARS 3 or above proportion\"].head()\n"
   ]
  },
  {
   "cell_type": "code",
   "execution_count": 17,
   "metadata": {},
   "outputs": [],
   "source": [
    "dataframe[\" WEALTH INDEX poorer proportion\"] = dataframe.groupby('cluster')['WEALTH INDEX'].transform(lambda x: calculate_proportion(x, \"poorer\"))\n",
    "dataframe[\" WEALTH INDEX poorest proportion\"] = dataframe.groupby('cluster')['WEALTH INDEX'].transform(lambda x: calculate_proportion(x, \"poorest\"))\n",
    "dataframe[\" WEALTH INDEX middle proportion\"] = dataframe.groupby('cluster')['WEALTH INDEX'].transform(lambda x: calculate_proportion(x, \"middle\"))"
   ]
  },
  {
   "cell_type": "code",
   "execution_count": 18,
   "metadata": {},
   "outputs": [
    {
     "data": {
      "text/plain": [
       "0    0.250000\n",
       "1    0.250000\n",
       "2    0.250000\n",
       "3    0.250000\n",
       "4    0.051282\n",
       "Name:   BIRTHS IN LAST FIVE 5 YEARS 2_or_3_above _proportion, dtype: float64"
      ]
     },
     "execution_count": 18,
     "metadata": {},
     "output_type": "execute_result"
    }
   ],
   "source": [
    "two_three_above = [\"2\", \"3 or above\"]\n",
    "dataframe[\"  BIRTHS IN LAST FIVE 5 YEARS 2_or_3_above _proportion\"] = dataframe.groupby('cluster')[' BIRTHS IN LAST FIVE 5 YEARS'].transform(lambda x: calculate_proportion(x, two_three_above))\n",
    "dataframe[\"  BIRTHS IN LAST FIVE 5 YEARS 2_or_3_above _proportion\"].head()"
   ]
  },
  {
   "cell_type": "code",
   "execution_count": 19,
   "metadata": {},
   "outputs": [],
   "source": [
    "\n",
    "child_0_5 = [0, 1, 2, 3, 4]\n",
    "dataframe[\"DURATION OF CURRENT PREGNANCY 0 to4 month proportion\"] = dataframe.groupby('cluster')['DURATION OF CURRENT PREGNANCY'].transform(lambda x: calculate_proportion(x, child_0_5))\n",
    "\n"
   ]
  },
  {
   "cell_type": "code",
   "execution_count": 20,
   "metadata": {},
   "outputs": [],
   "source": [
    "dataframe[\"CURRENTLY BREASTFEEDING yes proportion\"] = dataframe.groupby('cluster')['CURRENTLY BREASTFEEDING'].transform(lambda x: calculate_proportion(x, \"yes\"))\n"
   ]
  },
  {
   "cell_type": "code",
   "execution_count": 21,
   "metadata": {},
   "outputs": [],
   "source": [
    "dataframe[\"HUSBAND/PARTNER'S EDUCATION LEVEL no proportion\"] = dataframe.groupby('cluster')[\"HUSBAND/PARTNER'S EDUCATION LEVEL\"].transform(lambda x: calculate_proportion(x, \"no education\"))\n",
    "\n",
    "dataframe[\"HUSBAND/PARTNER'S EDUCATION LEVEL primary proportion\"] = dataframe.groupby('cluster')[\"HUSBAND/PARTNER'S EDUCATION LEVEL\"].transform(lambda x: calculate_proportion(x, \"primary\"))\n"
   ]
  },
  {
   "cell_type": "code",
   "execution_count": 22,
   "metadata": {},
   "outputs": [],
   "source": [
    "dataframe[\"HUSBAND/PARTNER'S OCCUPATION (GROUPED agricultural proportion\"] = dataframe.groupby('cluster')[\"HUSBAND/PARTNER'S OCCUPATION (GROUPED)\"].transform(lambda x: calculate_proportion(x, \"agricultural - employeet\"))\n",
    "\n",
    "dataframe[\"HUSBAND/PARTNER'S OCCUPATION (GROUPED) not working proportion\"] = dataframe.groupby('cluster')[\"HUSBAND/PARTNER'S OCCUPATION (GROUPED)\"].transform(lambda x: calculate_proportion(x, \"not working\"))\n",
    "\n"
   ]
  },
  {
   "cell_type": "code",
   "execution_count": 23,
   "metadata": {},
   "outputs": [],
   "source": [
    "dataframe[\"RESPONDENT'S OCCUPATION (GROUPED) not working proportion\"] = dataframe.groupby('cluster')[\"RESPONDENT'S OCCUPATION (GROUPED)\"].transform(lambda x: calculate_proportion(x, \"not working\"))\n",
    "dataframe[\"RESPONDENT'S OCCUPATION (GROUPED) not unskilled and sgricultural\"] = dataframe.groupby('cluster')[\"RESPONDENT'S OCCUPATION (GROUPED)\"].transform(lambda x: calculate_proportion(x, \"agricultural - employeet\"))\n"
   ]
  },
  {
   "cell_type": "code",
   "execution_count": 24,
   "metadata": {},
   "outputs": [
    {
     "data": {
      "text/plain": [
       "0        Women not invloved in decision making\n",
       "1        Women not invloved in decision making\n",
       "2        Women not invloved in decision making\n",
       "3        Women not invloved in decision making\n",
       "4        Women not invloved in decision making\n",
       "                         ...                  \n",
       "43754    Women not invloved in decision making\n",
       "43755    Women not invloved in decision making\n",
       "43756    Women not invloved in decision making\n",
       "43757    Women not invloved in decision making\n",
       "43758    Women not invloved in decision making\n",
       "Name: PERSON WHO USUALLY DECIDES ON LARGE HOUSEHOLD PURCHASES, Length: 43759, dtype: object"
      ]
     },
     "execution_count": 24,
     "metadata": {},
     "output_type": "execute_result"
    }
   ],
   "source": [
    "dataframe[\"PERSON WHO USUALLY DECIDES ON RESPONDENT'S HEALTH CARE women not involve proportion\"] = dataframe.groupby('cluster')[\"PERSON WHO USUALLY DECIDES ON RESPONDENT'S HEALTH CARE\"].transform(lambda x: calculate_proportion(x, \"Women not invloved in decision making\"))\n",
    "dataframe[\"PERSON WHO USUALLY DECIDES ON LARGE HOUSEHOLD PURCHASES\"]"
   ]
  },
  {
   "cell_type": "code",
   "execution_count": 25,
   "metadata": {},
   "outputs": [
    {
     "data": {
      "text/plain": [
       "0        0.455882\n",
       "1        0.455882\n",
       "2        0.455882\n",
       "3        0.455882\n",
       "4        0.435897\n",
       "           ...   \n",
       "43754    0.493671\n",
       "43755    0.493671\n",
       "43756    0.493671\n",
       "43757    0.493671\n",
       "43758    0.493671\n",
       "Name: PERSON WHO USUALLY DECIDES ON LARGE HOUSEHOLD PURCHASES women not involve proportion, Length: 43759, dtype: float64"
      ]
     },
     "execution_count": 25,
     "metadata": {},
     "output_type": "execute_result"
    }
   ],
   "source": [
    "dataframe[\"PERSON WHO USUALLY DECIDES ON LARGE HOUSEHOLD PURCHASES women not involve proportion\"] = dataframe.groupby('cluster')[\"PERSON WHO USUALLY DECIDES ON LARGE HOUSEHOLD PURCHASES\"].transform(lambda x: calculate_proportion(x, \"Women not invloved in decision making\"))\n",
    "dataframe[\"PERSON WHO USUALLY DECIDES ON LARGE HOUSEHOLD PURCHASES women not involve proportion\"]"
   ]
  },
  {
   "cell_type": "code",
   "execution_count": 26,
   "metadata": {},
   "outputs": [
    {
     "data": {
      "text/plain": [
       "0        0.382353\n",
       "1        0.382353\n",
       "2        0.382353\n",
       "3        0.382353\n",
       "4        0.435897\n",
       "           ...   \n",
       "43754    0.544304\n",
       "43755    0.544304\n",
       "43756    0.544304\n",
       "43757    0.544304\n",
       "43758    0.544304\n",
       "Name: PERSON WHO USUALLY DECIDES ON VISITS TO FAMILY OR RELATIVES women not involve proportion, Length: 43759, dtype: float64"
      ]
     },
     "execution_count": 26,
     "metadata": {},
     "output_type": "execute_result"
    }
   ],
   "source": [
    "dataframe[\"PERSON WHO USUALLY DECIDES ON VISITS TO FAMILY OR RELATIVES women not involve proportion\"] = dataframe.groupby('cluster')[\"PERSON WHO USUALLY DECIDES ON VISITS TO FAMILY OR RELATIVES\"].transform(lambda x: calculate_proportion(x, \"Women not invloved in decision making\"))\n",
    "dataframe[\"PERSON WHO USUALLY DECIDES ON VISITS TO FAMILY OR RELATIVES women not involve proportion\"]"
   ]
  },
  {
   "cell_type": "code",
   "execution_count": 27,
   "metadata": {},
   "outputs": [
    {
     "data": {
      "text/plain": [
       "0        1.000000\n",
       "1        1.000000\n",
       "2        1.000000\n",
       "3        1.000000\n",
       "4        0.769231\n",
       "           ...   \n",
       "43754    0.518987\n",
       "43755    0.518987\n",
       "43756    0.518987\n",
       "43757    0.518987\n",
       "43758    0.518987\n",
       "Name: PERSON WHO USUALLY DECIDES WHAT TO DO WITH MONEY HUSBAND EARNS women not involve proportion, Length: 43759, dtype: float64"
      ]
     },
     "execution_count": 27,
     "metadata": {},
     "output_type": "execute_result"
    }
   ],
   "source": [
    "dataframe[\"PERSON WHO USUALLY DECIDES WHAT TO DO WITH MONEY HUSBAND EARNS women not involve proportion\"] = dataframe.groupby('cluster')[\"PERSON WHO USUALLY DECIDES WHAT TO DO WITH MONEY HUSBAND EARNS\"].transform(lambda x: calculate_proportion(x, \"Women not invloved in decision making\"))\n",
    "dataframe[\"PERSON WHO USUALLY DECIDES WHAT TO DO WITH MONEY HUSBAND EARNS women not involve proportion\"]"
   ]
  },
  {
   "cell_type": "code",
   "execution_count": 29,
   "metadata": {},
   "outputs": [],
   "source": [
    "# Specify the path where you want to save the CSV file\n",
    "output_file_path = r'C:\\Users\\Welcome\\Desktop\\rameez bhai\\update_data.csv'  # Use one of the solutions above\n",
    "\n",
    "# Save the DataFrame to a CSV file\n",
    "dataframe.to_csv(output_file_path, index=False)\n"
   ]
  }
 ],
 "metadata": {
  "kernelspec": {
   "display_name": "Python 3",
   "language": "python",
   "name": "python3"
  },
  "language_info": {
   "codemirror_mode": {
    "name": "ipython",
    "version": 3
   },
   "file_extension": ".py",
   "mimetype": "text/x-python",
   "name": "python",
   "nbconvert_exporter": "python",
   "pygments_lexer": "ipython3",
   "version": "3.12.6"
  }
 },
 "nbformat": 4,
 "nbformat_minor": 2
}
